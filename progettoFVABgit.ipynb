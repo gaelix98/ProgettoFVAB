{
  "nbformat": 4,
  "nbformat_minor": 0,
  "metadata": {
    "colab": {
      "name": "progettoFVABgit.ipynb",
      "provenance": [],
      "collapsed_sections": [],
      "authorship_tag": "ABX9TyPilFLNjv3pkZbz5toK0BTX",
      "include_colab_link": true
    },
    "kernelspec": {
      "name": "python3",
      "display_name": "Python 3"
    },
    "language_info": {
      "name": "python"
    }
  },
  "cells": [
    {
      "cell_type": "markdown",
      "metadata": {
        "id": "view-in-github",
        "colab_type": "text"
      },
      "source": [
        "<a href=\"https://colab.research.google.com/github/maria-natale/ProgettoFVAB/blob/main/progettoFVABgit.ipynb\" target=\"_parent\"><img src=\"https://colab.research.google.com/assets/colab-badge.svg\" alt=\"Open In Colab\"/></a>"
      ]
    },
    {
      "cell_type": "code",
      "metadata": {
        "colab": {
          "base_uri": "https://localhost:8080/"
        },
        "id": "xNxP8nrpN12L",
        "outputId": "ba2a5d7c-4620-48d8-f6ef-a148b953a876"
      },
      "source": [
        "!git clone https://github.com/maria-natale/ProgettoFVAB"
      ],
      "execution_count": 1,
      "outputs": [
        {
          "output_type": "stream",
          "text": [
            "Cloning into 'ProgettoFVAB'...\n",
            "remote: Enumerating objects: 7, done.\u001b[K\n",
            "remote: Counting objects: 100% (7/7), done.\u001b[K\n",
            "remote: Compressing objects: 100% (3/3), done.\u001b[K\n",
            "remote: Total 7 (delta 0), reused 4 (delta 0), pack-reused 0\u001b[K\n",
            "Unpacking objects: 100% (7/7), done.\n"
          ],
          "name": "stdout"
        }
      ]
    },
    {
      "cell_type": "code",
      "metadata": {
        "colab": {
          "base_uri": "https://localhost:8080/"
        },
        "id": "-8FkKqjyvYIT",
        "outputId": "f69b361b-8c71-4458-cb0e-ea8bab1c7193"
      },
      "source": [
        "!python \"/content/ProgettoFVAB/Code/create_dataset.py\""
      ],
      "execution_count": 45,
      "outputs": [
        {
          "output_type": "stream",
          "text": [
            "file_dataset/spagnolo_giapponese.csv\n",
            "     Unnamed: 0  ... lan_gen_age\n",
            "0             0  ...           7\n",
            "1             1  ...           7\n",
            "2             2  ...           7\n",
            "3             3  ...           7\n",
            "4             4  ...           7\n",
            "..          ...  ...         ...\n",
            "248         248  ...           1\n",
            "249         249  ...           0\n",
            "250         250  ...           0\n",
            "251         251  ...           0\n",
            "252         252  ...           0\n",
            "\n",
            "[253 rows x 6 columns]\n"
          ],
          "name": "stdout"
        }
      ]
    },
    {
      "cell_type": "code",
      "metadata": {
        "colab": {
          "base_uri": "https://localhost:8080/"
        },
        "id": "8XJ4VsTtxTz3",
        "outputId": "b73ed94f-864a-4a10-b3ca-13f99053eb9a"
      },
      "source": [
        "from google.colab import drive\n",
        "drive.mount('/content/drive')"
      ],
      "execution_count": 8,
      "outputs": [
        {
          "output_type": "stream",
          "text": [
            "Mounted at /content/drive\n"
          ],
          "name": "stdout"
        }
      ]
    }
  ]
}